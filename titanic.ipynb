{
 "cells": [
  {
   "cell_type": "markdown",
   "id": "7dbf0e64",
   "metadata": {
    "papermill": {
     "duration": 0.00701,
     "end_time": "2024-09-27T02:12:23.700424",
     "exception": false,
     "start_time": "2024-09-27T02:12:23.693414",
     "status": "completed"
    },
    "tags": []
   },
   "source": [
    "# Import libraries"
   ]
  },
  {
   "cell_type": "code",
   "execution_count": 1,
   "id": "d5184608",
   "metadata": {
    "_cell_guid": "b1076dfc-b9ad-4769-8c92-a6c4dae69d19",
    "_uuid": "8f2839f25d086af736a60e9eeb907d3b93b6e0e5",
    "execution": {
     "iopub.execute_input": "2024-09-27T02:12:23.716158Z",
     "iopub.status.busy": "2024-09-27T02:12:23.715501Z",
     "iopub.status.idle": "2024-09-27T02:12:26.735319Z",
     "shell.execute_reply": "2024-09-27T02:12:26.733422Z"
    },
    "papermill": {
     "duration": 3.031512,
     "end_time": "2024-09-27T02:12:26.738383",
     "exception": false,
     "start_time": "2024-09-27T02:12:23.706871",
     "status": "completed"
    },
    "tags": []
   },
   "outputs": [
    {
     "name": "stdout",
     "output_type": "stream",
     "text": [
      "/kaggle/input/titanic/train.csv\n",
      "/kaggle/input/titanic/test.csv\n",
      "/kaggle/input/titanic/gender_submission.csv\n"
     ]
    }
   ],
   "source": [
    "# This Python 3 environment comes with many helpful analytics libraries installed\n",
    "# It is defined by the kaggle/python Docker image: https://github.com/kaggle/docker-python\n",
    "# For example, here's several helpful packages to load\n",
    "\n",
    "import numpy as np # linear algebra\n",
    "import pandas as pd # data processing, CSV file I/O (e.g. pd.read_csv)\n",
    "import seaborn as sns\n",
    "import matplotlib.pyplot as plt\n",
    "\n",
    "# Input data files are available in the read-only \"../input/\" directory\n",
    "# For example, running this (by clicking run or pressing Shift+Enter) will list all files under the input directory\n",
    "\n",
    "import os\n",
    "for dirname, _, filenames in os.walk('/kaggle/input'):\n",
    "    for filename in filenames:\n",
    "        print(os.path.join(dirname, filename))\n",
    "\n",
    "# You can write up to 20GB to the current directory (/kaggle/working/) that gets preserved as output when you create a version using \"Save & Run All\" \n",
    "# You can also write temporary files to /kaggle/temp/, but they won't be saved outside of the current session"
   ]
  },
  {
   "cell_type": "markdown",
   "id": "c21772a2",
   "metadata": {
    "papermill": {
     "duration": 0.005789,
     "end_time": "2024-09-27T02:12:26.750612",
     "exception": false,
     "start_time": "2024-09-27T02:12:26.744823",
     "status": "completed"
    },
    "tags": []
   },
   "source": [
    "# Load datasets"
   ]
  },
  {
   "cell_type": "code",
   "execution_count": 2,
   "id": "9cb84912",
   "metadata": {
    "execution": {
     "iopub.execute_input": "2024-09-27T02:12:26.765361Z",
     "iopub.status.busy": "2024-09-27T02:12:26.764631Z",
     "iopub.status.idle": "2024-09-27T02:12:26.817920Z",
     "shell.execute_reply": "2024-09-27T02:12:26.815793Z"
    },
    "papermill": {
     "duration": 0.064827,
     "end_time": "2024-09-27T02:12:26.821554",
     "exception": false,
     "start_time": "2024-09-27T02:12:26.756727",
     "status": "completed"
    },
    "tags": []
   },
   "outputs": [],
   "source": [
    "train_data = pd.read_csv('/kaggle/input/titanic/train.csv')\n",
    "test_data = pd.read_csv('/kaggle/input/titanic/test.csv')\n",
    "train_data['source'] = 'train'\n",
    "test_data['source'] = 'test'\n",
    "data = pd.concat([train_data, test_data], ignore_index=True)"
   ]
  },
  {
   "cell_type": "markdown",
   "id": "bb343b26",
   "metadata": {
    "papermill": {
     "duration": 0.008745,
     "end_time": "2024-09-27T02:12:26.838496",
     "exception": false,
     "start_time": "2024-09-27T02:12:26.829751",
     "status": "completed"
    },
    "tags": []
   },
   "source": [
    "# EDA"
   ]
  },
  {
   "cell_type": "markdown",
   "id": "ee6f6fef",
   "metadata": {
    "papermill": {
     "duration": 0.009345,
     "end_time": "2024-09-27T02:12:26.856899",
     "exception": false,
     "start_time": "2024-09-27T02:12:26.847554",
     "status": "completed"
    },
    "tags": []
   },
   "source": [
    "## Training set"
   ]
  },
  {
   "cell_type": "code",
   "execution_count": 3,
   "id": "79f70db1",
   "metadata": {
    "execution": {
     "iopub.execute_input": "2024-09-27T02:12:26.876808Z",
     "iopub.status.busy": "2024-09-27T02:12:26.876263Z",
     "iopub.status.idle": "2024-09-27T02:12:26.930659Z",
     "shell.execute_reply": "2024-09-27T02:12:26.929143Z"
    },
    "papermill": {
     "duration": 0.070035,
     "end_time": "2024-09-27T02:12:26.935783",
     "exception": false,
     "start_time": "2024-09-27T02:12:26.865748",
     "status": "completed"
    },
    "tags": []
   },
   "outputs": [
    {
     "name": "stdout",
     "output_type": "stream",
     "text": [
      "Columns in the dataset:\n",
      "Index(['PassengerId', 'Survived', 'Pclass', 'Name', 'Sex', 'Age', 'SibSp',\n",
      "       'Parch', 'Ticket', 'Fare', 'Cabin', 'Embarked', 'source'],\n",
      "      dtype='object')\n",
      "\n",
      "First few rows of the training data:\n",
      "   PassengerId  Survived  Pclass  \\\n",
      "0            1         0       3   \n",
      "1            2         1       1   \n",
      "2            3         1       3   \n",
      "3            4         1       1   \n",
      "4            5         0       3   \n",
      "\n",
      "                                                Name     Sex   Age  SibSp  \\\n",
      "0                            Braund, Mr. Owen Harris    male  22.0      1   \n",
      "1  Cumings, Mrs. John Bradley (Florence Briggs Th...  female  38.0      1   \n",
      "2                             Heikkinen, Miss. Laina  female  26.0      0   \n",
      "3       Futrelle, Mrs. Jacques Heath (Lily May Peel)  female  35.0      1   \n",
      "4                           Allen, Mr. William Henry    male  35.0      0   \n",
      "\n",
      "   Parch            Ticket     Fare Cabin Embarked source  \n",
      "0      0         A/5 21171   7.2500   NaN        S  train  \n",
      "1      0          PC 17599  71.2833   C85        C  train  \n",
      "2      0  STON/O2. 3101282   7.9250   NaN        S  train  \n",
      "3      0            113803  53.1000  C123        S  train  \n",
      "4      0            373450   8.0500   NaN        S  train  \n",
      "\n",
      "Summary statistics of the training data:\n",
      "       PassengerId    Survived      Pclass         Age       SibSp  \\\n",
      "count   891.000000  891.000000  891.000000  714.000000  891.000000   \n",
      "mean    446.000000    0.383838    2.308642   29.699118    0.523008   \n",
      "std     257.353842    0.486592    0.836071   14.526497    1.102743   \n",
      "min       1.000000    0.000000    1.000000    0.420000    0.000000   \n",
      "25%     223.500000    0.000000    2.000000   20.125000    0.000000   \n",
      "50%     446.000000    0.000000    3.000000   28.000000    0.000000   \n",
      "75%     668.500000    1.000000    3.000000   38.000000    1.000000   \n",
      "max     891.000000    1.000000    3.000000   80.000000    8.000000   \n",
      "\n",
      "            Parch        Fare  \n",
      "count  891.000000  891.000000  \n",
      "mean     0.381594   32.204208  \n",
      "std      0.806057   49.693429  \n",
      "min      0.000000    0.000000  \n",
      "25%      0.000000    7.910400  \n",
      "50%      0.000000   14.454200  \n",
      "75%      0.000000   31.000000  \n",
      "max      6.000000  512.329200  \n",
      "\n",
      "Missing values in the dataset:\n",
      "PassengerId      0\n",
      "Survived         0\n",
      "Pclass           0\n",
      "Name             0\n",
      "Sex              0\n",
      "Age            177\n",
      "SibSp            0\n",
      "Parch            0\n",
      "Ticket           0\n",
      "Fare             0\n",
      "Cabin          687\n",
      "Embarked         2\n",
      "source           0\n",
      "dtype: int64\n"
     ]
    }
   ],
   "source": [
    "print(\"Columns in the dataset:\")\n",
    "print(train_data.columns)\n",
    "\n",
    "print(\"\\nFirst few rows of the training data:\")\n",
    "print(train_data.head())\n",
    "\n",
    "print(\"\\nSummary statistics of the training data:\")\n",
    "print(train_data.describe())\n",
    "\n",
    "print(\"\\nMissing values in the dataset:\")\n",
    "print(train_data.isnull().sum())"
   ]
  },
  {
   "cell_type": "markdown",
   "id": "4ebff5f3",
   "metadata": {
    "papermill": {
     "duration": 0.009421,
     "end_time": "2024-09-27T02:12:26.954483",
     "exception": false,
     "start_time": "2024-09-27T02:12:26.945062",
     "status": "completed"
    },
    "tags": []
   },
   "source": [
    "## Test data"
   ]
  },
  {
   "cell_type": "code",
   "execution_count": 4,
   "id": "6d562f59",
   "metadata": {
    "execution": {
     "iopub.execute_input": "2024-09-27T02:12:26.973639Z",
     "iopub.status.busy": "2024-09-27T02:12:26.973076Z",
     "iopub.status.idle": "2024-09-27T02:12:27.016225Z",
     "shell.execute_reply": "2024-09-27T02:12:27.014123Z"
    },
    "papermill": {
     "duration": 0.056151,
     "end_time": "2024-09-27T02:12:27.019749",
     "exception": false,
     "start_time": "2024-09-27T02:12:26.963598",
     "status": "completed"
    },
    "tags": []
   },
   "outputs": [
    {
     "name": "stdout",
     "output_type": "stream",
     "text": [
      "Columns in the dataset:\n",
      "Index(['PassengerId', 'Pclass', 'Name', 'Sex', 'Age', 'SibSp', 'Parch',\n",
      "       'Ticket', 'Fare', 'Cabin', 'Embarked', 'source'],\n",
      "      dtype='object')\n",
      "\n",
      "First few rows of the test data:\n",
      "   PassengerId  Pclass                                          Name     Sex  \\\n",
      "0          892       3                              Kelly, Mr. James    male   \n",
      "1          893       3              Wilkes, Mrs. James (Ellen Needs)  female   \n",
      "2          894       2                     Myles, Mr. Thomas Francis    male   \n",
      "3          895       3                              Wirz, Mr. Albert    male   \n",
      "4          896       3  Hirvonen, Mrs. Alexander (Helga E Lindqvist)  female   \n",
      "\n",
      "    Age  SibSp  Parch   Ticket     Fare Cabin Embarked source  \n",
      "0  34.5      0      0   330911   7.8292   NaN        Q   test  \n",
      "1  47.0      1      0   363272   7.0000   NaN        S   test  \n",
      "2  62.0      0      0   240276   9.6875   NaN        Q   test  \n",
      "3  27.0      0      0   315154   8.6625   NaN        S   test  \n",
      "4  22.0      1      1  3101298  12.2875   NaN        S   test  \n",
      "\n",
      "Summary statistics of the test data:\n",
      "       PassengerId      Pclass         Age       SibSp       Parch        Fare\n",
      "count   418.000000  418.000000  332.000000  418.000000  418.000000  417.000000\n",
      "mean   1100.500000    2.265550   30.272590    0.447368    0.392344   35.627188\n",
      "std     120.810458    0.841838   14.181209    0.896760    0.981429   55.907576\n",
      "min     892.000000    1.000000    0.170000    0.000000    0.000000    0.000000\n",
      "25%     996.250000    1.000000   21.000000    0.000000    0.000000    7.895800\n",
      "50%    1100.500000    3.000000   27.000000    0.000000    0.000000   14.454200\n",
      "75%    1204.750000    3.000000   39.000000    1.000000    0.000000   31.500000\n",
      "max    1309.000000    3.000000   76.000000    8.000000    9.000000  512.329200\n",
      "\n",
      "Missing values in the dataset:\n",
      "PassengerId      0\n",
      "Pclass           0\n",
      "Name             0\n",
      "Sex              0\n",
      "Age             86\n",
      "SibSp            0\n",
      "Parch            0\n",
      "Ticket           0\n",
      "Fare             1\n",
      "Cabin          327\n",
      "Embarked         0\n",
      "source           0\n",
      "dtype: int64\n"
     ]
    }
   ],
   "source": [
    "print(\"Columns in the dataset:\")\n",
    "print(test_data.columns)\n",
    "\n",
    "print(\"\\nFirst few rows of the test data:\")\n",
    "print(test_data.head())\n",
    "\n",
    "print(\"\\nSummary statistics of the test data:\")\n",
    "print(test_data.describe())\n",
    "\n",
    "print(\"\\nMissing values in the dataset:\")\n",
    "print(test_data.isnull().sum())"
   ]
  },
  {
   "cell_type": "markdown",
   "id": "963bd3aa",
   "metadata": {
    "papermill": {
     "duration": 0.009128,
     "end_time": "2024-09-27T02:12:27.036070",
     "exception": false,
     "start_time": "2024-09-27T02:12:27.026942",
     "status": "completed"
    },
    "tags": []
   },
   "source": [
    "# Feature Engineering"
   ]
  },
  {
   "cell_type": "code",
   "execution_count": 5,
   "id": "d0f81589",
   "metadata": {
    "execution": {
     "iopub.execute_input": "2024-09-27T02:12:27.060622Z",
     "iopub.status.busy": "2024-09-27T02:12:27.059092Z",
     "iopub.status.idle": "2024-09-27T02:12:27.116957Z",
     "shell.execute_reply": "2024-09-27T02:12:27.115456Z"
    },
    "papermill": {
     "duration": 0.074048,
     "end_time": "2024-09-27T02:12:27.120233",
     "exception": false,
     "start_time": "2024-09-27T02:12:27.046185",
     "status": "completed"
    },
    "tags": []
   },
   "outputs": [],
   "source": [
    "data = pd.concat([train_data, test_data], ignore_index=True)\n",
    "\n",
    "# Extract Title from Name\n",
    "data['Title'] = data['Name'].str.extract('([A-Za-z]+)\\.', expand=False)\n",
    "data['Title'] = data['Title'].replace(['Lady', 'Countess', 'Capt', 'Col',\n",
    "                                       'Don', 'Dr', 'Major', 'Rev', 'Sir',\n",
    "                                       'Jonkheer', 'Dona'], 'Rare')\n",
    "data['Title'] = data['Title'].replace(['Mlle', 'Ms'], 'Miss')\n",
    "data['Title'] = data['Title'].replace('Mme', 'Mrs')\n",
    "\n",
    "# Create Family Size Feature\n",
    "data['FamilySize'] = data['SibSp'] + data['Parch'] + 1\n",
    "\n",
    "# Create IsAlone Feature\n",
    "data['IsAlone'] = 0 \n",
    "data.loc[data['FamilySize'] == 1, 'IsAlone'] = 1\n",
    "\n",
    "#### Age Binning\n",
    "data['AgeBin'] = pd.cut(data['Age'], bins=[0, 12, 20, 40, 120],\n",
    "                        labels=['Child', 'Teenager', 'Adult', 'Elder'])\n",
    "\n",
    "#### Fare Binning\n",
    "data['FareBin'] = pd.qcut(data['Fare'], 4, labels=['Low', 'Medium', 'High', 'Very_High'])\n",
    "\n",
    "# Drop unnecessary features\n",
    "data.drop(['PassengerId', 'Name', 'Ticket', 'Cabin', 'SibSp', 'Parch'], axis=1, inplace=True)\n",
    "\n",
    "categorical_cols = ['Sex', 'Embarked', 'Title', 'AgeBin', 'FareBin']\n",
    "data = pd.get_dummies(data, columns=categorical_cols, dummy_na=True)\n",
    "\n",
    "train_data = data[data['source'] == 'train'].drop(['source'], axis=1)\n",
    "test_data = data[data['source'] == 'test'].drop(['source', 'Survived'], axis=1)"
   ]
  },
  {
   "cell_type": "markdown",
   "id": "e427be2f",
   "metadata": {
    "papermill": {
     "duration": 0.006837,
     "end_time": "2024-09-27T02:12:27.133897",
     "exception": false,
     "start_time": "2024-09-27T02:12:27.127060",
     "status": "completed"
    },
    "tags": []
   },
   "source": [
    "# Model Building"
   ]
  },
  {
   "cell_type": "markdown",
   "id": "0ef40329",
   "metadata": {
    "papermill": {
     "duration": 0.006173,
     "end_time": "2024-09-27T02:12:27.146532",
     "exception": false,
     "start_time": "2024-09-27T02:12:27.140359",
     "status": "completed"
    },
    "tags": []
   },
   "source": [
    "## Prepare test data and training data"
   ]
  },
  {
   "cell_type": "code",
   "execution_count": 6,
   "id": "0cfe9646",
   "metadata": {
    "execution": {
     "iopub.execute_input": "2024-09-27T02:12:27.162184Z",
     "iopub.status.busy": "2024-09-27T02:12:27.160917Z",
     "iopub.status.idle": "2024-09-27T02:12:27.516706Z",
     "shell.execute_reply": "2024-09-27T02:12:27.514963Z"
    },
    "papermill": {
     "duration": 0.367742,
     "end_time": "2024-09-27T02:12:27.520664",
     "exception": false,
     "start_time": "2024-09-27T02:12:27.152922",
     "status": "completed"
    },
    "tags": []
   },
   "outputs": [],
   "source": [
    "from sklearn.model_selection import train_test_split\n",
    "\n",
    "X = train_data.drop('Survived', axis=1)\n",
    "y = train_data['Survived']\n",
    "\n",
    "X_train, X_valid, y_train, y_valid = train_test_split(\n",
    "    X, y, test_size=0.2, random_state=42\n",
    ")"
   ]
  },
  {
   "cell_type": "markdown",
   "id": "912c124f",
   "metadata": {
    "papermill": {
     "duration": 0.00974,
     "end_time": "2024-09-27T02:12:27.540222",
     "exception": false,
     "start_time": "2024-09-27T02:12:27.530482",
     "status": "completed"
    },
    "tags": []
   },
   "source": [
    "## Use XGBoosting"
   ]
  },
  {
   "cell_type": "code",
   "execution_count": 7,
   "id": "43006485",
   "metadata": {
    "execution": {
     "iopub.execute_input": "2024-09-27T02:12:27.562856Z",
     "iopub.status.busy": "2024-09-27T02:12:27.562356Z",
     "iopub.status.idle": "2024-09-27T02:12:37.059789Z",
     "shell.execute_reply": "2024-09-27T02:12:37.058695Z"
    },
    "papermill": {
     "duration": 9.511311,
     "end_time": "2024-09-27T02:12:37.062505",
     "exception": false,
     "start_time": "2024-09-27T02:12:27.551194",
     "status": "completed"
    },
    "tags": []
   },
   "outputs": [
    {
     "name": "stdout",
     "output_type": "stream",
     "text": [
      "Fitting 5 folds for each of 24 candidates, totalling 120 fits\n",
      "Best Parameters: {'learning_rate': 0.01, 'max_depth': 3, 'n_estimators': 300, 'subsample': 0.8}\n",
      "Training Accuracy: 0.8620\n"
     ]
    }
   ],
   "source": [
    "import xgboost as xgb\n",
    "from sklearn.model_selection import GridSearchCV\n",
    "from sklearn.metrics import accuracy_score\n",
    "\n",
    "xgb_clf = xgb.XGBClassifier(use_label_encoder=False, eval_metric='mlogloss')\n",
    "\n",
    "param_grid = {\n",
    "    'n_estimators': [100, 300],\n",
    "    'max_depth': [3, 5],\n",
    "    'learning_rate': [0.01, 0.1],\n",
    "    'subsample': [0.7, 0.8, 1.0],\n",
    "}\n",
    "\n",
    "grid_search = GridSearchCV(estimator=xgb_clf, \n",
    "                           param_grid=param_grid, \n",
    "                           scoring='accuracy',\n",
    "                           cv=5, \n",
    "                           verbose=1, \n",
    "                           n_jobs=-1) \n",
    "\n",
    "grid_search.fit(X_train, y_train)\n",
    "\n",
    "best_params = grid_search.best_params_\n",
    "\n",
    "print(f\"Best Parameters: {best_params}\")\n",
    "\n",
    "final_model = xgb.XGBClassifier(\n",
    "    **best_params,\n",
    "    use_label_encoder=False,\n",
    "    eval_metric='logloss'\n",
    ")\n",
    "\n",
    "final_model.fit(X, y)\n",
    "\n",
    "train_predictions = final_model.predict(X)\n",
    "\n",
    "train_accuracy = accuracy_score(y, train_predictions)\n",
    "print(f\"Training Accuracy: {train_accuracy:.4f}\")\n"
   ]
  },
  {
   "cell_type": "markdown",
   "id": "df33f88a",
   "metadata": {
    "papermill": {
     "duration": 0.006699,
     "end_time": "2024-09-27T02:12:37.076888",
     "exception": false,
     "start_time": "2024-09-27T02:12:37.070189",
     "status": "completed"
    },
    "tags": []
   },
   "source": [
    "# Submission"
   ]
  },
  {
   "cell_type": "code",
   "execution_count": 8,
   "id": "f5081d29",
   "metadata": {
    "execution": {
     "iopub.execute_input": "2024-09-27T02:12:37.091950Z",
     "iopub.status.busy": "2024-09-27T02:12:37.091470Z",
     "iopub.status.idle": "2024-09-27T02:12:37.125020Z",
     "shell.execute_reply": "2024-09-27T02:12:37.123818Z"
    },
    "papermill": {
     "duration": 0.044574,
     "end_time": "2024-09-27T02:12:37.127933",
     "exception": false,
     "start_time": "2024-09-27T02:12:37.083359",
     "status": "completed"
    },
    "tags": []
   },
   "outputs": [],
   "source": [
    "predictions = final_model.predict(test_data)\n",
    "original_test = pd.read_csv('/kaggle/input/titanic/test.csv')\n",
    "\n",
    "# Prepare submission DataFrame\n",
    "submission = pd.DataFrame({\n",
    "    'PassengerId': original_test['PassengerId'],\n",
    "    'Survived': predictions.astype(int)\n",
    "})\n",
    "submission.to_csv('submission.csv', index=False)"
   ]
  }
 ],
 "metadata": {
  "kaggle": {
   "accelerator": "none",
   "dataSources": [
    {
     "databundleVersionId": 26502,
     "sourceId": 3136,
     "sourceType": "competition"
    }
   ],
   "dockerImageVersionId": 30761,
   "isGpuEnabled": false,
   "isInternetEnabled": false,
   "language": "python",
   "sourceType": "notebook"
  },
  "kernelspec": {
   "display_name": "Python 3",
   "language": "python",
   "name": "python3"
  },
  "language_info": {
   "codemirror_mode": {
    "name": "ipython",
    "version": 3
   },
   "file_extension": ".py",
   "mimetype": "text/x-python",
   "name": "python",
   "nbconvert_exporter": "python",
   "pygments_lexer": "ipython3",
   "version": "3.10.14"
  },
  "papermill": {
   "default_parameters": {},
   "duration": 19.367209,
   "end_time": "2024-09-27T02:12:39.756438",
   "environment_variables": {},
   "exception": null,
   "input_path": "__notebook__.ipynb",
   "output_path": "__notebook__.ipynb",
   "parameters": {},
   "start_time": "2024-09-27T02:12:20.389229",
   "version": "2.6.0"
  }
 },
 "nbformat": 4,
 "nbformat_minor": 5
}
