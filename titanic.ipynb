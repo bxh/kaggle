{
 "cells": [
  {
   "cell_type": "markdown",
   "id": "58b1547d",
   "metadata": {
    "papermill": {
     "duration": 0.007153,
     "end_time": "2024-09-17T20:24:31.751687",
     "exception": false,
     "start_time": "2024-09-17T20:24:31.744534",
     "status": "completed"
    },
    "tags": []
   },
   "source": [
    "# Import libraries"
   ]
  },
  {
   "cell_type": "code",
   "execution_count": 1,
   "id": "cb038065",
   "metadata": {
    "_cell_guid": "b1076dfc-b9ad-4769-8c92-a6c4dae69d19",
    "_uuid": "8f2839f25d086af736a60e9eeb907d3b93b6e0e5",
    "execution": {
     "iopub.execute_input": "2024-09-17T20:24:31.766249Z",
     "iopub.status.busy": "2024-09-17T20:24:31.765694Z",
     "iopub.status.idle": "2024-09-17T20:24:34.046835Z",
     "shell.execute_reply": "2024-09-17T20:24:34.045755Z"
    },
    "papermill": {
     "duration": 2.291801,
     "end_time": "2024-09-17T20:24:34.049650",
     "exception": false,
     "start_time": "2024-09-17T20:24:31.757849",
     "status": "completed"
    },
    "tags": []
   },
   "outputs": [
    {
     "name": "stdout",
     "output_type": "stream",
     "text": [
      "/kaggle/input/titanic/train.csv\n",
      "/kaggle/input/titanic/test.csv\n",
      "/kaggle/input/titanic/gender_submission.csv\n"
     ]
    }
   ],
   "source": [
    "# This Python 3 environment comes with many helpful analytics libraries installed\n",
    "# It is defined by the kaggle/python Docker image: https://github.com/kaggle/docker-python\n",
    "# For example, here's several helpful packages to load\n",
    "\n",
    "import numpy as np # linear algebra\n",
    "import pandas as pd # data processing, CSV file I/O (e.g. pd.read_csv)\n",
    "import seaborn as sns\n",
    "import matplotlib.pyplot as plt\n",
    "\n",
    "# Input data files are available in the read-only \"../input/\" directory\n",
    "# For example, running this (by clicking run or pressing Shift+Enter) will list all files under the input directory\n",
    "\n",
    "import os\n",
    "for dirname, _, filenames in os.walk('/kaggle/input'):\n",
    "    for filename in filenames:\n",
    "        print(os.path.join(dirname, filename))\n",
    "\n",
    "# You can write up to 20GB to the current directory (/kaggle/working/) that gets preserved as output when you create a version using \"Save & Run All\" \n",
    "# You can also write temporary files to /kaggle/temp/, but they won't be saved outside of the current session"
   ]
  },
  {
   "cell_type": "markdown",
   "id": "cefa9ded",
   "metadata": {
    "papermill": {
     "duration": 0.005656,
     "end_time": "2024-09-17T20:24:34.061401",
     "exception": false,
     "start_time": "2024-09-17T20:24:34.055745",
     "status": "completed"
    },
    "tags": []
   },
   "source": [
    "# Load datasets"
   ]
  },
  {
   "cell_type": "code",
   "execution_count": 2,
   "id": "885a39b8",
   "metadata": {
    "execution": {
     "iopub.execute_input": "2024-09-17T20:24:34.075397Z",
     "iopub.status.busy": "2024-09-17T20:24:34.074823Z",
     "iopub.status.idle": "2024-09-17T20:24:34.111990Z",
     "shell.execute_reply": "2024-09-17T20:24:34.110974Z"
    },
    "papermill": {
     "duration": 0.047627,
     "end_time": "2024-09-17T20:24:34.115013",
     "exception": false,
     "start_time": "2024-09-17T20:24:34.067386",
     "status": "completed"
    },
    "tags": []
   },
   "outputs": [],
   "source": [
    "train_data = pd.read_csv('/kaggle/input/titanic/train.csv')\n",
    "test_data = pd.read_csv('/kaggle/input/titanic/test.csv')\n",
    "\n",
    "passenger_id = test_data['PassengerId']\n",
    "full_data = [train_data, test_data]"
   ]
  },
  {
   "cell_type": "markdown",
   "id": "67766098",
   "metadata": {
    "papermill": {
     "duration": 0.005667,
     "end_time": "2024-09-17T20:24:34.127160",
     "exception": false,
     "start_time": "2024-09-17T20:24:34.121493",
     "status": "completed"
    },
    "tags": []
   },
   "source": [
    "# Feature Engineering"
   ]
  },
  {
   "cell_type": "code",
   "execution_count": 3,
   "id": "abce9420",
   "metadata": {
    "execution": {
     "iopub.execute_input": "2024-09-17T20:24:34.141145Z",
     "iopub.status.busy": "2024-09-17T20:24:34.140702Z",
     "iopub.status.idle": "2024-09-17T20:24:34.226968Z",
     "shell.execute_reply": "2024-09-17T20:24:34.225911Z"
    },
    "papermill": {
     "duration": 0.096634,
     "end_time": "2024-09-17T20:24:34.229757",
     "exception": false,
     "start_time": "2024-09-17T20:24:34.133123",
     "status": "completed"
    },
    "tags": []
   },
   "outputs": [],
   "source": [
    "for dataset in full_data:\n",
    "    # Extract Titles from Names\n",
    "    dataset['Title'] = dataset['Name'].str.extract(' ([A-Za-z]+)\\.', expand=False)\n",
    "    \n",
    "    # Replace rare titles with 'Rare' and standardize common titles\n",
    "    dataset['Title'] = dataset['Title'].replace(['Lady', 'Countess','Capt', 'Col',\\\n",
    "     'Don', 'Dr', 'Major', 'Rev', 'Sir', 'Jonkheer', 'Dona'], 'Rare')\n",
    "    dataset['Title'] = dataset['Title'].replace('Mlle', 'Miss')\n",
    "    dataset['Title'] = dataset['Title'].replace('Ms', 'Miss')\n",
    "    dataset['Title'] = dataset['Title'].replace('Mme', 'Mrs')\n",
    "    \n",
    "    # Map titles to numerical values\n",
    "    title_mapping = {'Mr':1, 'Miss':2, 'Mrs':3, 'Master':4, 'Rare':5}\n",
    "    dataset['Title'] = dataset['Title'].map(title_mapping)\n",
    "    dataset['Title'] = dataset['Title'].fillna(0)\n",
    "    \n",
    "    # Create FamilySize feature\n",
    "    dataset['FamilySize'] = dataset['SibSp'] + dataset['Parch'] + 1\n",
    "    \n",
    "    # Create IsAlone feature\n",
    "    dataset['IsAlone'] = 1  # Initialize to 1 (means alone)\n",
    "    dataset.loc[dataset['FamilySize'] > 1, 'IsAlone'] = 0  # Update to 0 if not alone\n",
    "    \n",
    "    # Fill missing Embarked with mode\n",
    "    dataset['Embarked'] = dataset['Embarked'].fillna(dataset['Embarked'].mode()[0])\n",
    "    \n",
    "    # Map Embarked to numerical values\n",
    "    embarked_mapping = {'S':0, 'C':1, 'Q':2}\n",
    "    dataset['Embarked'] = dataset['Embarked'].map(embarked_mapping)\n",
    "    \n",
    "    # Map Sex to numerical values\n",
    "    sex_mapping = {'male':0, 'female':1}\n",
    "    dataset['Sex'] = dataset['Sex'].map(sex_mapping)\n",
    "    \n",
    "    # Fill missing Fare with median\n",
    "    dataset['Fare'] = dataset['Fare'].fillna(dataset['Fare'].median())\n",
    "    \n",
    "    # Create Fare bands and map to numerical values\n",
    "    dataset['FareBin'] = pd.qcut(dataset['Fare'], 4)\n",
    "    fare_mapping = {interval: idx for idx, interval in enumerate(dataset['FareBin'].unique().categories)}\n",
    "    dataset['Fare'] = dataset['FareBin'].map(fare_mapping)\n",
    "    dataset['Fare'] = dataset['Fare'].astype(int)\n",
    "    dataset.drop('FareBin', axis=1, inplace=True)\n",
    "    \n",
    "    # Create Age bands and map to numerical values\n",
    "    dataset['Age'] = dataset['Age'].fillna(dataset['Age'].median())\n",
    "    dataset['AgeBin'] = pd.qcut(dataset['Age'], 4)\n",
    "    age_mapping = {interval: idx for idx, interval in enumerate(dataset['AgeBin'].unique().categories)}\n",
    "    dataset['Age'] = dataset['AgeBin'].map(age_mapping)\n",
    "    dataset['Age'] = dataset['Age'].astype(int)\n",
    "    dataset.drop('AgeBin', axis=1, inplace=True)\n",
    "    \n",
    "    # Drop unnecessary features\n",
    "    dataset.drop(['PassengerId', 'Name', 'Ticket', 'Cabin', 'SibSp', 'Parch'], axis=1, inplace=True)\n"
   ]
  },
  {
   "cell_type": "markdown",
   "id": "7a89a080",
   "metadata": {
    "papermill": {
     "duration": 0.00564,
     "end_time": "2024-09-17T20:24:34.241428",
     "exception": false,
     "start_time": "2024-09-17T20:24:34.235788",
     "status": "completed"
    },
    "tags": []
   },
   "source": [
    "# EDA"
   ]
  },
  {
   "cell_type": "markdown",
   "id": "4a0c765a",
   "metadata": {
    "papermill": {
     "duration": 0.005639,
     "end_time": "2024-09-17T20:24:34.253080",
     "exception": false,
     "start_time": "2024-09-17T20:24:34.247441",
     "status": "completed"
    },
    "tags": []
   },
   "source": [
    "## Training set"
   ]
  },
  {
   "cell_type": "code",
   "execution_count": 4,
   "id": "9bf7b120",
   "metadata": {
    "execution": {
     "iopub.execute_input": "2024-09-17T20:24:34.266426Z",
     "iopub.status.busy": "2024-09-17T20:24:34.266009Z",
     "iopub.status.idle": "2024-09-17T20:24:34.303030Z",
     "shell.execute_reply": "2024-09-17T20:24:34.301901Z"
    },
    "papermill": {
     "duration": 0.04694,
     "end_time": "2024-09-17T20:24:34.305813",
     "exception": false,
     "start_time": "2024-09-17T20:24:34.258873",
     "status": "completed"
    },
    "tags": []
   },
   "outputs": [
    {
     "name": "stdout",
     "output_type": "stream",
     "text": [
      "Columns in the dataset:\n",
      "Index(['Survived', 'Pclass', 'Sex', 'Age', 'Fare', 'Embarked', 'Title',\n",
      "       'FamilySize', 'IsAlone'],\n",
      "      dtype='object')\n",
      "\n",
      "First few rows of the training data:\n",
      "   Survived  Pclass  Sex  Age  Fare  Embarked  Title  FamilySize  IsAlone\n",
      "0         0       3    0    0     0         0      1           2        0\n",
      "1         1       1    1    3     3         1      3           2        0\n",
      "2         1       3    1    1     1         0      2           1        1\n",
      "3         1       1    1    2     3         0      3           2        0\n",
      "4         0       3    0    2     1         0      1           1        1\n",
      "\n",
      "Summary statistics of the training data:\n",
      "         Survived      Pclass         Sex         Age        Fare    Embarked  \\\n",
      "count  891.000000  891.000000  891.000000  891.000000  891.000000  891.000000   \n",
      "mean     0.383838    2.308642    0.352413    1.379349    1.497194    0.361392   \n",
      "std      0.486592    0.836071    0.477990    1.114652    1.118156    0.635673   \n",
      "min      0.000000    1.000000    0.000000    0.000000    0.000000    0.000000   \n",
      "25%      0.000000    2.000000    0.000000    0.000000    0.500000    0.000000   \n",
      "50%      0.000000    3.000000    0.000000    1.000000    1.000000    0.000000   \n",
      "75%      1.000000    3.000000    1.000000    2.000000    2.000000    1.000000   \n",
      "max      1.000000    3.000000    1.000000    3.000000    3.000000    2.000000   \n",
      "\n",
      "            Title  FamilySize     IsAlone  \n",
      "count  891.000000  891.000000  891.000000  \n",
      "mean     1.728395    1.904602    0.602694  \n",
      "std      1.030039    1.613459    0.489615  \n",
      "min      1.000000    1.000000    0.000000  \n",
      "25%      1.000000    1.000000    0.000000  \n",
      "50%      1.000000    1.000000    1.000000  \n",
      "75%      2.000000    2.000000    1.000000  \n",
      "max      5.000000   11.000000    1.000000  \n",
      "\n",
      "Missing values in the dataset:\n",
      "Survived      0\n",
      "Pclass        0\n",
      "Sex           0\n",
      "Age           0\n",
      "Fare          0\n",
      "Embarked      0\n",
      "Title         0\n",
      "FamilySize    0\n",
      "IsAlone       0\n",
      "dtype: int64\n"
     ]
    }
   ],
   "source": [
    "print(\"Columns in the dataset:\")\n",
    "print(train_data.columns)\n",
    "\n",
    "print(\"\\nFirst few rows of the training data:\")\n",
    "print(train_data.head())\n",
    "\n",
    "print(\"\\nSummary statistics of the training data:\")\n",
    "print(train_data.describe())\n",
    "\n",
    "print(\"\\nMissing values in the dataset:\")\n",
    "print(train_data.isnull().sum())"
   ]
  },
  {
   "cell_type": "markdown",
   "id": "8afb66b3",
   "metadata": {
    "papermill": {
     "duration": 0.005858,
     "end_time": "2024-09-17T20:24:34.317941",
     "exception": false,
     "start_time": "2024-09-17T20:24:34.312083",
     "status": "completed"
    },
    "tags": []
   },
   "source": [
    "## Test data"
   ]
  },
  {
   "cell_type": "code",
   "execution_count": 5,
   "id": "4a32d8d9",
   "metadata": {
    "execution": {
     "iopub.execute_input": "2024-09-17T20:24:34.331672Z",
     "iopub.status.busy": "2024-09-17T20:24:34.331223Z",
     "iopub.status.idle": "2024-09-17T20:24:34.362924Z",
     "shell.execute_reply": "2024-09-17T20:24:34.361752Z"
    },
    "papermill": {
     "duration": 0.042021,
     "end_time": "2024-09-17T20:24:34.365927",
     "exception": false,
     "start_time": "2024-09-17T20:24:34.323906",
     "status": "completed"
    },
    "tags": []
   },
   "outputs": [
    {
     "name": "stdout",
     "output_type": "stream",
     "text": [
      "Columns in the dataset:\n",
      "Index(['Pclass', 'Sex', 'Age', 'Fare', 'Embarked', 'Title', 'FamilySize',\n",
      "       'IsAlone'],\n",
      "      dtype='object')\n",
      "\n",
      "First few rows of the test data:\n",
      "   Pclass  Sex  Age  Fare  Embarked  Title  FamilySize  IsAlone\n",
      "0       3    0    2     0         2      1           1        1\n",
      "1       3    1    3     0         0      3           2        0\n",
      "2       2    0    3     1         2      1           1        1\n",
      "3       3    0    1     1         0      1           1        1\n",
      "4       3    1    0     1         0      3           3        0\n",
      "\n",
      "Summary statistics of the test data:\n",
      "           Pclass         Sex         Age        Fare    Embarked       Title  \\\n",
      "count  418.000000  418.000000  418.000000  418.000000  418.000000  418.000000   \n",
      "mean     2.265550    0.363636    1.373206    1.473684    0.464115    1.741627   \n",
      "std      0.841838    0.481622    1.133510    1.140292    0.685516    1.006091   \n",
      "min      1.000000    0.000000    0.000000    0.000000    0.000000    1.000000   \n",
      "25%      1.000000    0.000000    0.000000    0.000000    0.000000    1.000000   \n",
      "50%      3.000000    0.000000    1.000000    1.000000    0.000000    1.000000   \n",
      "75%      3.000000    1.000000    2.750000    2.750000    1.000000    2.000000   \n",
      "max      3.000000    1.000000    3.000000    3.000000    2.000000    5.000000   \n",
      "\n",
      "       FamilySize     IsAlone  \n",
      "count  418.000000  418.000000  \n",
      "mean     1.839713    0.605263  \n",
      "std      1.519072    0.489380  \n",
      "min      1.000000    0.000000  \n",
      "25%      1.000000    0.000000  \n",
      "50%      1.000000    1.000000  \n",
      "75%      2.000000    1.000000  \n",
      "max     11.000000    1.000000  \n",
      "\n",
      "Missing values in the dataset:\n",
      "Pclass        0\n",
      "Sex           0\n",
      "Age           0\n",
      "Fare          0\n",
      "Embarked      0\n",
      "Title         0\n",
      "FamilySize    0\n",
      "IsAlone       0\n",
      "dtype: int64\n"
     ]
    }
   ],
   "source": [
    "print(\"Columns in the dataset:\")\n",
    "print(test_data.columns)\n",
    "\n",
    "print(\"\\nFirst few rows of the test data:\")\n",
    "print(test_data.head())\n",
    "\n",
    "print(\"\\nSummary statistics of the test data:\")\n",
    "print(test_data.describe())\n",
    "\n",
    "print(\"\\nMissing values in the dataset:\")\n",
    "print(test_data.isnull().sum())"
   ]
  },
  {
   "cell_type": "markdown",
   "id": "75599e2e",
   "metadata": {
    "papermill": {
     "duration": 0.006181,
     "end_time": "2024-09-17T20:24:34.378480",
     "exception": false,
     "start_time": "2024-09-17T20:24:34.372299",
     "status": "completed"
    },
    "tags": []
   },
   "source": [
    "# Model Building"
   ]
  },
  {
   "cell_type": "markdown",
   "id": "6c6a6dac",
   "metadata": {
    "papermill": {
     "duration": 0.00602,
     "end_time": "2024-09-17T20:24:34.390889",
     "exception": false,
     "start_time": "2024-09-17T20:24:34.384869",
     "status": "completed"
    },
    "tags": []
   },
   "source": [
    "## Prepare test data and training data"
   ]
  },
  {
   "cell_type": "code",
   "execution_count": 6,
   "id": "1b4c8aca",
   "metadata": {
    "execution": {
     "iopub.execute_input": "2024-09-17T20:24:34.405162Z",
     "iopub.status.busy": "2024-09-17T20:24:34.404756Z",
     "iopub.status.idle": "2024-09-17T20:24:34.412134Z",
     "shell.execute_reply": "2024-09-17T20:24:34.411129Z"
    },
    "papermill": {
     "duration": 0.017585,
     "end_time": "2024-09-17T20:24:34.414711",
     "exception": false,
     "start_time": "2024-09-17T20:24:34.397126",
     "status": "completed"
    },
    "tags": []
   },
   "outputs": [],
   "source": [
    "X_train = train_data.drop('Survived', axis=1)\n",
    "y_train = train_data['Survived']\n",
    "X_test = test_data.copy()"
   ]
  },
  {
   "cell_type": "markdown",
   "id": "37c98e7d",
   "metadata": {
    "papermill": {
     "duration": 0.006051,
     "end_time": "2024-09-17T20:24:34.427177",
     "exception": false,
     "start_time": "2024-09-17T20:24:34.421126",
     "status": "completed"
    },
    "tags": []
   },
   "source": [
    "## Train a random forest classifier with grid search"
   ]
  },
  {
   "cell_type": "code",
   "execution_count": 7,
   "id": "27e06ea9",
   "metadata": {
    "execution": {
     "iopub.execute_input": "2024-09-17T20:24:34.441435Z",
     "iopub.status.busy": "2024-09-17T20:24:34.441041Z",
     "iopub.status.idle": "2024-09-17T20:26:34.880879Z",
     "shell.execute_reply": "2024-09-17T20:26:34.879214Z"
    },
    "papermill": {
     "duration": 120.450426,
     "end_time": "2024-09-17T20:26:34.883882",
     "exception": false,
     "start_time": "2024-09-17T20:24:34.433456",
     "status": "completed"
    },
    "tags": []
   },
   "outputs": [
    {
     "name": "stdout",
     "output_type": "stream",
     "text": [
      "Best Parameters: {'max_depth': 5, 'min_samples_leaf': 1, 'min_samples_split': 2, 'n_estimators': 100}\n",
      "Cross-validation Accuracy: 0.83\n"
     ]
    }
   ],
   "source": [
    "from sklearn.ensemble import RandomForestClassifier\n",
    "from sklearn.metrics import accuracy_score\n",
    "from sklearn.model_selection import GridSearchCV, cross_val_score\n",
    "\n",
    "param_grid = {\n",
    "    'n_estimators': [100, 300, 500],\n",
    "    'max_depth': [5, 8, 15],\n",
    "    'min_samples_split': [2, 5, 10],\n",
    "    'min_samples_leaf': [1, 2, 5]\n",
    "}\n",
    "\n",
    "model = RandomForestClassifier(random_state=42)\n",
    "\n",
    "from sklearn.model_selection import GridSearchCV\n",
    "\n",
    "grid_search = GridSearchCV(estimator=model, param_grid=param_grid, cv=5, n_jobs=-1, scoring='accuracy')\n",
    "grid_search.fit(X_train, y_train)\n",
    "\n",
    "best_params = grid_search.best_params_\n",
    "print(f\"Best Parameters: {best_params}\")\n",
    "\n",
    "best_model = RandomForestClassifier(**best_params, random_state=42)\n",
    "best_model.fit(X_train, y_train)\n",
    "\n",
    "cv_scores = cross_val_score(best_model, X_train, y_train, cv=5, scoring='accuracy')\n",
    "print(f\"Cross-validation Accuracy: {cv_scores.mean():.2f}\")"
   ]
  },
  {
   "cell_type": "markdown",
   "id": "bd5a36a5",
   "metadata": {
    "papermill": {
     "duration": 0.006345,
     "end_time": "2024-09-17T20:26:34.897026",
     "exception": false,
     "start_time": "2024-09-17T20:26:34.890681",
     "status": "completed"
    },
    "tags": []
   },
   "source": [
    "# Submission"
   ]
  },
  {
   "cell_type": "code",
   "execution_count": 8,
   "id": "bb1dad28",
   "metadata": {
    "execution": {
     "iopub.execute_input": "2024-09-17T20:26:34.912657Z",
     "iopub.status.busy": "2024-09-17T20:26:34.912187Z",
     "iopub.status.idle": "2024-09-17T20:26:34.937284Z",
     "shell.execute_reply": "2024-09-17T20:26:34.936212Z"
    },
    "papermill": {
     "duration": 0.036487,
     "end_time": "2024-09-17T20:26:34.940249",
     "exception": false,
     "start_time": "2024-09-17T20:26:34.903762",
     "status": "completed"
    },
    "tags": []
   },
   "outputs": [],
   "source": [
    "predictions = best_model.predict(X_test)\n",
    "\n",
    "submission = pd.DataFrame({\n",
    "    'PassengerId': passenger_id,\n",
    "    'Survived': predictions\n",
    "})\n",
    "submission.to_csv('submission.csv', index=False)"
   ]
  }
 ],
 "metadata": {
  "kaggle": {
   "accelerator": "none",
   "dataSources": [
    {
     "databundleVersionId": 26502,
     "sourceId": 3136,
     "sourceType": "competition"
    }
   ],
   "dockerImageVersionId": 30761,
   "isGpuEnabled": false,
   "isInternetEnabled": false,
   "language": "python",
   "sourceType": "notebook"
  },
  "kernelspec": {
   "display_name": "Python 3",
   "language": "python",
   "name": "python3"
  },
  "language_info": {
   "codemirror_mode": {
    "name": "ipython",
    "version": 3
   },
   "file_extension": ".py",
   "mimetype": "text/x-python",
   "name": "python",
   "nbconvert_exporter": "python",
   "pygments_lexer": "ipython3",
   "version": "3.10.14"
  },
  "papermill": {
   "default_parameters": {},
   "duration": 128.904491,
   "end_time": "2024-09-17T20:26:37.568978",
   "environment_variables": {},
   "exception": null,
   "input_path": "__notebook__.ipynb",
   "output_path": "__notebook__.ipynb",
   "parameters": {},
   "start_time": "2024-09-17T20:24:28.664487",
   "version": "2.6.0"
  }
 },
 "nbformat": 4,
 "nbformat_minor": 5
}
