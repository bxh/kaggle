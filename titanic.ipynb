{
 "cells": [
  {
   "cell_type": "markdown",
   "id": "83255b7a",
   "metadata": {
    "papermill": {
     "duration": 0.009043,
     "end_time": "2024-09-08T16:50:46.664212",
     "exception": false,
     "start_time": "2024-09-08T16:50:46.655169",
     "status": "completed"
    },
    "tags": []
   },
   "source": [
    "# Import libraries"
   ]
  },
  {
   "cell_type": "code",
   "execution_count": 1,
   "id": "91cefbf4",
   "metadata": {
    "_cell_guid": "b1076dfc-b9ad-4769-8c92-a6c4dae69d19",
    "_uuid": "8f2839f25d086af736a60e9eeb907d3b93b6e0e5",
    "execution": {
     "iopub.execute_input": "2024-09-08T16:50:46.682596Z",
     "iopub.status.busy": "2024-09-08T16:50:46.682166Z",
     "iopub.status.idle": "2024-09-08T16:50:49.076434Z",
     "shell.execute_reply": "2024-09-08T16:50:49.074810Z"
    },
    "papermill": {
     "duration": 2.406604,
     "end_time": "2024-09-08T16:50:49.079301",
     "exception": false,
     "start_time": "2024-09-08T16:50:46.672697",
     "status": "completed"
    },
    "tags": []
   },
   "outputs": [
    {
     "name": "stdout",
     "output_type": "stream",
     "text": [
      "/kaggle/input/titanic/train.csv\n",
      "/kaggle/input/titanic/test.csv\n",
      "/kaggle/input/titanic/gender_submission.csv\n"
     ]
    }
   ],
   "source": [
    "# This Python 3 environment comes with many helpful analytics libraries installed\n",
    "# It is defined by the kaggle/python Docker image: https://github.com/kaggle/docker-python\n",
    "# For example, here's several helpful packages to load\n",
    "\n",
    "import numpy as np # linear algebra\n",
    "import pandas as pd # data processing, CSV file I/O (e.g. pd.read_csv)\n",
    "import seaborn as sns\n",
    "import matplotlib.pyplot as plt\n",
    "\n",
    "# Input data files are available in the read-only \"../input/\" directory\n",
    "# For example, running this (by clicking run or pressing Shift+Enter) will list all files under the input directory\n",
    "\n",
    "import os\n",
    "for dirname, _, filenames in os.walk('/kaggle/input'):\n",
    "    for filename in filenames:\n",
    "        print(os.path.join(dirname, filename))\n",
    "\n",
    "# You can write up to 20GB to the current directory (/kaggle/working/) that gets preserved as output when you create a version using \"Save & Run All\" \n",
    "# You can also write temporary files to /kaggle/temp/, but they won't be saved outside of the current session"
   ]
  },
  {
   "cell_type": "markdown",
   "id": "e834de0d",
   "metadata": {
    "papermill": {
     "duration": 0.007736,
     "end_time": "2024-09-08T16:50:49.095194",
     "exception": false,
     "start_time": "2024-09-08T16:50:49.087458",
     "status": "completed"
    },
    "tags": []
   },
   "source": [
    "# Load datasets"
   ]
  },
  {
   "cell_type": "code",
   "execution_count": 2,
   "id": "1e7149b1",
   "metadata": {
    "execution": {
     "iopub.execute_input": "2024-09-08T16:50:49.113617Z",
     "iopub.status.busy": "2024-09-08T16:50:49.112991Z",
     "iopub.status.idle": "2024-09-08T16:50:49.147766Z",
     "shell.execute_reply": "2024-09-08T16:50:49.146442Z"
    },
    "papermill": {
     "duration": 0.048639,
     "end_time": "2024-09-08T16:50:49.151765",
     "exception": false,
     "start_time": "2024-09-08T16:50:49.103126",
     "status": "completed"
    },
    "tags": []
   },
   "outputs": [],
   "source": [
    "train_data = pd.read_csv('/kaggle/input/titanic/train.csv')\n",
    "test_data = pd.read_csv('/kaggle/input/titanic/test.csv')"
   ]
  },
  {
   "cell_type": "markdown",
   "id": "e57b5398",
   "metadata": {
    "papermill": {
     "duration": 0.007736,
     "end_time": "2024-09-08T16:50:49.167579",
     "exception": false,
     "start_time": "2024-09-08T16:50:49.159843",
     "status": "completed"
    },
    "tags": []
   },
   "source": [
    "# EDA"
   ]
  },
  {
   "cell_type": "code",
   "execution_count": 3,
   "id": "1c913f9d",
   "metadata": {
    "execution": {
     "iopub.execute_input": "2024-09-08T16:50:49.185336Z",
     "iopub.status.busy": "2024-09-08T16:50:49.184765Z",
     "iopub.status.idle": "2024-09-08T16:50:49.260397Z",
     "shell.execute_reply": "2024-09-08T16:50:49.259008Z"
    },
    "papermill": {
     "duration": 0.087764,
     "end_time": "2024-09-08T16:50:49.263302",
     "exception": false,
     "start_time": "2024-09-08T16:50:49.175538",
     "status": "completed"
    },
    "tags": []
   },
   "outputs": [
    {
     "name": "stdout",
     "output_type": "stream",
     "text": [
      "<class 'pandas.core.frame.DataFrame'>\n",
      "RangeIndex: 891 entries, 0 to 890\n",
      "Data columns (total 12 columns):\n",
      " #   Column       Non-Null Count  Dtype  \n",
      "---  ------       --------------  -----  \n",
      " 0   PassengerId  891 non-null    int64  \n",
      " 1   Survived     891 non-null    int64  \n",
      " 2   Pclass       891 non-null    int64  \n",
      " 3   Name         891 non-null    object \n",
      " 4   Sex          891 non-null    object \n",
      " 5   Age          714 non-null    float64\n",
      " 6   SibSp        891 non-null    int64  \n",
      " 7   Parch        891 non-null    int64  \n",
      " 8   Ticket       891 non-null    object \n",
      " 9   Fare         891 non-null    float64\n",
      " 10  Cabin        204 non-null    object \n",
      " 11  Embarked     889 non-null    object \n",
      "dtypes: float64(2), int64(5), object(5)\n",
      "memory usage: 83.7+ KB\n"
     ]
    },
    {
     "data": {
      "text/html": [
       "<div>\n",
       "<style scoped>\n",
       "    .dataframe tbody tr th:only-of-type {\n",
       "        vertical-align: middle;\n",
       "    }\n",
       "\n",
       "    .dataframe tbody tr th {\n",
       "        vertical-align: top;\n",
       "    }\n",
       "\n",
       "    .dataframe thead th {\n",
       "        text-align: right;\n",
       "    }\n",
       "</style>\n",
       "<table border=\"1\" class=\"dataframe\">\n",
       "  <thead>\n",
       "    <tr style=\"text-align: right;\">\n",
       "      <th></th>\n",
       "      <th>PassengerId</th>\n",
       "      <th>Survived</th>\n",
       "      <th>Pclass</th>\n",
       "      <th>Age</th>\n",
       "      <th>SibSp</th>\n",
       "      <th>Parch</th>\n",
       "      <th>Fare</th>\n",
       "    </tr>\n",
       "  </thead>\n",
       "  <tbody>\n",
       "    <tr>\n",
       "      <th>count</th>\n",
       "      <td>891.000000</td>\n",
       "      <td>891.000000</td>\n",
       "      <td>891.000000</td>\n",
       "      <td>714.000000</td>\n",
       "      <td>891.000000</td>\n",
       "      <td>891.000000</td>\n",
       "      <td>891.000000</td>\n",
       "    </tr>\n",
       "    <tr>\n",
       "      <th>mean</th>\n",
       "      <td>446.000000</td>\n",
       "      <td>0.383838</td>\n",
       "      <td>2.308642</td>\n",
       "      <td>29.699118</td>\n",
       "      <td>0.523008</td>\n",
       "      <td>0.381594</td>\n",
       "      <td>32.204208</td>\n",
       "    </tr>\n",
       "    <tr>\n",
       "      <th>std</th>\n",
       "      <td>257.353842</td>\n",
       "      <td>0.486592</td>\n",
       "      <td>0.836071</td>\n",
       "      <td>14.526497</td>\n",
       "      <td>1.102743</td>\n",
       "      <td>0.806057</td>\n",
       "      <td>49.693429</td>\n",
       "    </tr>\n",
       "    <tr>\n",
       "      <th>min</th>\n",
       "      <td>1.000000</td>\n",
       "      <td>0.000000</td>\n",
       "      <td>1.000000</td>\n",
       "      <td>0.420000</td>\n",
       "      <td>0.000000</td>\n",
       "      <td>0.000000</td>\n",
       "      <td>0.000000</td>\n",
       "    </tr>\n",
       "    <tr>\n",
       "      <th>25%</th>\n",
       "      <td>223.500000</td>\n",
       "      <td>0.000000</td>\n",
       "      <td>2.000000</td>\n",
       "      <td>20.125000</td>\n",
       "      <td>0.000000</td>\n",
       "      <td>0.000000</td>\n",
       "      <td>7.910400</td>\n",
       "    </tr>\n",
       "    <tr>\n",
       "      <th>50%</th>\n",
       "      <td>446.000000</td>\n",
       "      <td>0.000000</td>\n",
       "      <td>3.000000</td>\n",
       "      <td>28.000000</td>\n",
       "      <td>0.000000</td>\n",
       "      <td>0.000000</td>\n",
       "      <td>14.454200</td>\n",
       "    </tr>\n",
       "    <tr>\n",
       "      <th>75%</th>\n",
       "      <td>668.500000</td>\n",
       "      <td>1.000000</td>\n",
       "      <td>3.000000</td>\n",
       "      <td>38.000000</td>\n",
       "      <td>1.000000</td>\n",
       "      <td>0.000000</td>\n",
       "      <td>31.000000</td>\n",
       "    </tr>\n",
       "    <tr>\n",
       "      <th>max</th>\n",
       "      <td>891.000000</td>\n",
       "      <td>1.000000</td>\n",
       "      <td>3.000000</td>\n",
       "      <td>80.000000</td>\n",
       "      <td>8.000000</td>\n",
       "      <td>6.000000</td>\n",
       "      <td>512.329200</td>\n",
       "    </tr>\n",
       "  </tbody>\n",
       "</table>\n",
       "</div>"
      ],
      "text/plain": [
       "       PassengerId    Survived      Pclass         Age       SibSp  \\\n",
       "count   891.000000  891.000000  891.000000  714.000000  891.000000   \n",
       "mean    446.000000    0.383838    2.308642   29.699118    0.523008   \n",
       "std     257.353842    0.486592    0.836071   14.526497    1.102743   \n",
       "min       1.000000    0.000000    1.000000    0.420000    0.000000   \n",
       "25%     223.500000    0.000000    2.000000   20.125000    0.000000   \n",
       "50%     446.000000    0.000000    3.000000   28.000000    0.000000   \n",
       "75%     668.500000    1.000000    3.000000   38.000000    1.000000   \n",
       "max     891.000000    1.000000    3.000000   80.000000    8.000000   \n",
       "\n",
       "            Parch        Fare  \n",
       "count  891.000000  891.000000  \n",
       "mean     0.381594   32.204208  \n",
       "std      0.806057   49.693429  \n",
       "min      0.000000    0.000000  \n",
       "25%      0.000000    7.910400  \n",
       "50%      0.000000   14.454200  \n",
       "75%      0.000000   31.000000  \n",
       "max      6.000000  512.329200  "
      ]
     },
     "execution_count": 3,
     "metadata": {},
     "output_type": "execute_result"
    }
   ],
   "source": [
    "train_data.head()\n",
    "train_data.info()\n",
    "train_data.describe()\n",
    "\n",
    "#sns.countplot(x='Survived', data=train_data)\n",
    "#plt.show()\n"
   ]
  },
  {
   "cell_type": "markdown",
   "id": "ac09ebe9",
   "metadata": {
    "papermill": {
     "duration": 0.008715,
     "end_time": "2024-09-08T16:50:49.280681",
     "exception": false,
     "start_time": "2024-09-08T16:50:49.271966",
     "status": "completed"
    },
    "tags": []
   },
   "source": [
    "# Preprocessing"
   ]
  },
  {
   "cell_type": "markdown",
   "id": "6f57734b",
   "metadata": {
    "papermill": {
     "duration": 0.008179,
     "end_time": "2024-09-08T16:50:49.297259",
     "exception": false,
     "start_time": "2024-09-08T16:50:49.289080",
     "status": "completed"
    },
    "tags": []
   },
   "source": [
    "## Add missing entries"
   ]
  },
  {
   "cell_type": "code",
   "execution_count": 4,
   "id": "c356480f",
   "metadata": {
    "execution": {
     "iopub.execute_input": "2024-09-08T16:50:49.316118Z",
     "iopub.status.busy": "2024-09-08T16:50:49.315682Z",
     "iopub.status.idle": "2024-09-08T16:50:49.325668Z",
     "shell.execute_reply": "2024-09-08T16:50:49.324568Z"
    },
    "papermill": {
     "duration": 0.022742,
     "end_time": "2024-09-08T16:50:49.328477",
     "exception": false,
     "start_time": "2024-09-08T16:50:49.305735",
     "status": "completed"
    },
    "tags": []
   },
   "outputs": [],
   "source": [
    "train_data['Age'] = train_data['Age'].fillna(train_data['Age'].median())\n",
    "train_data['Embarked'] = train_data['Embarked'].fillna(train_data['Embarked'].mode()[0])\n",
    "\n"
   ]
  },
  {
   "cell_type": "markdown",
   "id": "8e495b74",
   "metadata": {
    "papermill": {
     "duration": 0.008109,
     "end_time": "2024-09-08T16:50:49.345006",
     "exception": false,
     "start_time": "2024-09-08T16:50:49.336897",
     "status": "completed"
    },
    "tags": []
   },
   "source": [
    "## Convert categorical fields"
   ]
  },
  {
   "cell_type": "code",
   "execution_count": 5,
   "id": "801f7606",
   "metadata": {
    "execution": {
     "iopub.execute_input": "2024-09-08T16:50:49.363574Z",
     "iopub.status.busy": "2024-09-08T16:50:49.363117Z",
     "iopub.status.idle": "2024-09-08T16:50:49.381284Z",
     "shell.execute_reply": "2024-09-08T16:50:49.379916Z"
    },
    "papermill": {
     "duration": 0.030607,
     "end_time": "2024-09-08T16:50:49.384108",
     "exception": false,
     "start_time": "2024-09-08T16:50:49.353501",
     "status": "completed"
    },
    "tags": []
   },
   "outputs": [],
   "source": [
    "train_data = pd.get_dummies(train_data, columns=['Sex', 'Embarked'])"
   ]
  },
  {
   "cell_type": "markdown",
   "id": "7e29fc25",
   "metadata": {
    "papermill": {
     "duration": 0.008861,
     "end_time": "2024-09-08T16:50:49.401448",
     "exception": false,
     "start_time": "2024-09-08T16:50:49.392587",
     "status": "completed"
    },
    "tags": []
   },
   "source": [
    "## Drop unnecessary fields"
   ]
  },
  {
   "cell_type": "code",
   "execution_count": 6,
   "id": "924872a1",
   "metadata": {
    "execution": {
     "iopub.execute_input": "2024-09-08T16:50:49.422231Z",
     "iopub.status.busy": "2024-09-08T16:50:49.421039Z",
     "iopub.status.idle": "2024-09-08T16:50:49.428530Z",
     "shell.execute_reply": "2024-09-08T16:50:49.427106Z"
    },
    "papermill": {
     "duration": 0.020215,
     "end_time": "2024-09-08T16:50:49.431133",
     "exception": false,
     "start_time": "2024-09-08T16:50:49.410918",
     "status": "completed"
    },
    "tags": []
   },
   "outputs": [],
   "source": [
    "train_data.drop(['Name', 'Ticket', 'Cabin'], axis=1, inplace=True)"
   ]
  },
  {
   "cell_type": "markdown",
   "id": "03c059a3",
   "metadata": {
    "papermill": {
     "duration": 0.008817,
     "end_time": "2024-09-08T16:50:49.448423",
     "exception": false,
     "start_time": "2024-09-08T16:50:49.439606",
     "status": "completed"
    },
    "tags": []
   },
   "source": [
    "## Check"
   ]
  },
  {
   "cell_type": "code",
   "execution_count": 7,
   "id": "00eff4d1",
   "metadata": {
    "execution": {
     "iopub.execute_input": "2024-09-08T16:50:49.467683Z",
     "iopub.status.busy": "2024-09-08T16:50:49.467258Z",
     "iopub.status.idle": "2024-09-08T16:50:49.475636Z",
     "shell.execute_reply": "2024-09-08T16:50:49.474313Z"
    },
    "papermill": {
     "duration": 0.02183,
     "end_time": "2024-09-08T16:50:49.478782",
     "exception": false,
     "start_time": "2024-09-08T16:50:49.456952",
     "status": "completed"
    },
    "tags": []
   },
   "outputs": [
    {
     "name": "stdout",
     "output_type": "stream",
     "text": [
      "Index(['PassengerId', 'Survived', 'Pclass', 'Age', 'SibSp', 'Parch', 'Fare',\n",
      "       'Sex_female', 'Sex_male', 'Embarked_C', 'Embarked_Q', 'Embarked_S'],\n",
      "      dtype='object')\n",
      "PassengerId    0\n",
      "Survived       0\n",
      "Pclass         0\n",
      "Age            0\n",
      "SibSp          0\n",
      "Parch          0\n",
      "Fare           0\n",
      "Sex_female     0\n",
      "Sex_male       0\n",
      "Embarked_C     0\n",
      "Embarked_Q     0\n",
      "Embarked_S     0\n",
      "dtype: int64\n"
     ]
    }
   ],
   "source": [
    "print(train_data.columns)\n",
    "print(train_data.isnull().sum())"
   ]
  },
  {
   "cell_type": "markdown",
   "id": "42aefcb6",
   "metadata": {
    "papermill": {
     "duration": 0.008192,
     "end_time": "2024-09-08T16:50:49.495406",
     "exception": false,
     "start_time": "2024-09-08T16:50:49.487214",
     "status": "completed"
    },
    "tags": []
   },
   "source": [
    "# Model Building"
   ]
  },
  {
   "cell_type": "markdown",
   "id": "8fcaf31c",
   "metadata": {
    "papermill": {
     "duration": 0.0081,
     "end_time": "2024-09-08T16:50:49.512058",
     "exception": false,
     "start_time": "2024-09-08T16:50:49.503958",
     "status": "completed"
    },
    "tags": []
   },
   "source": [
    "## Split the data"
   ]
  },
  {
   "cell_type": "code",
   "execution_count": 8,
   "id": "96631e58",
   "metadata": {
    "execution": {
     "iopub.execute_input": "2024-09-08T16:50:49.531312Z",
     "iopub.status.busy": "2024-09-08T16:50:49.530872Z",
     "iopub.status.idle": "2024-09-08T16:50:49.847310Z",
     "shell.execute_reply": "2024-09-08T16:50:49.846039Z"
    },
    "papermill": {
     "duration": 0.329536,
     "end_time": "2024-09-08T16:50:49.850332",
     "exception": false,
     "start_time": "2024-09-08T16:50:49.520796",
     "status": "completed"
    },
    "tags": []
   },
   "outputs": [],
   "source": [
    "from sklearn.model_selection import train_test_split\n",
    "\n",
    "X = train_data.drop('Survived', axis=1)\n",
    "y = train_data['Survived']\n",
    "X_train, X_val, y_train, y_val = train_test_split(X, y, test_size=0.2, random_state=42)"
   ]
  },
  {
   "cell_type": "markdown",
   "id": "550917df",
   "metadata": {
    "papermill": {
     "duration": 0.008147,
     "end_time": "2024-09-08T16:50:49.867208",
     "exception": false,
     "start_time": "2024-09-08T16:50:49.859061",
     "status": "completed"
    },
    "tags": []
   },
   "source": [
    "## Train a random forest classifier"
   ]
  },
  {
   "cell_type": "code",
   "execution_count": 9,
   "id": "b64f76b3",
   "metadata": {
    "execution": {
     "iopub.execute_input": "2024-09-08T16:50:49.886196Z",
     "iopub.status.busy": "2024-09-08T16:50:49.885720Z",
     "iopub.status.idle": "2024-09-08T16:50:50.480643Z",
     "shell.execute_reply": "2024-09-08T16:50:50.479244Z"
    },
    "papermill": {
     "duration": 0.60805,
     "end_time": "2024-09-08T16:50:50.483527",
     "exception": false,
     "start_time": "2024-09-08T16:50:49.875477",
     "status": "completed"
    },
    "tags": []
   },
   "outputs": [
    {
     "data": {
      "text/html": [
       "<style>#sk-container-id-1 {color: black;background-color: white;}#sk-container-id-1 pre{padding: 0;}#sk-container-id-1 div.sk-toggleable {background-color: white;}#sk-container-id-1 label.sk-toggleable__label {cursor: pointer;display: block;width: 100%;margin-bottom: 0;padding: 0.3em;box-sizing: border-box;text-align: center;}#sk-container-id-1 label.sk-toggleable__label-arrow:before {content: \"▸\";float: left;margin-right: 0.25em;color: #696969;}#sk-container-id-1 label.sk-toggleable__label-arrow:hover:before {color: black;}#sk-container-id-1 div.sk-estimator:hover label.sk-toggleable__label-arrow:before {color: black;}#sk-container-id-1 div.sk-toggleable__content {max-height: 0;max-width: 0;overflow: hidden;text-align: left;background-color: #f0f8ff;}#sk-container-id-1 div.sk-toggleable__content pre {margin: 0.2em;color: black;border-radius: 0.25em;background-color: #f0f8ff;}#sk-container-id-1 input.sk-toggleable__control:checked~div.sk-toggleable__content {max-height: 200px;max-width: 100%;overflow: auto;}#sk-container-id-1 input.sk-toggleable__control:checked~label.sk-toggleable__label-arrow:before {content: \"▾\";}#sk-container-id-1 div.sk-estimator input.sk-toggleable__control:checked~label.sk-toggleable__label {background-color: #d4ebff;}#sk-container-id-1 div.sk-label input.sk-toggleable__control:checked~label.sk-toggleable__label {background-color: #d4ebff;}#sk-container-id-1 input.sk-hidden--visually {border: 0;clip: rect(1px 1px 1px 1px);clip: rect(1px, 1px, 1px, 1px);height: 1px;margin: -1px;overflow: hidden;padding: 0;position: absolute;width: 1px;}#sk-container-id-1 div.sk-estimator {font-family: monospace;background-color: #f0f8ff;border: 1px dotted black;border-radius: 0.25em;box-sizing: border-box;margin-bottom: 0.5em;}#sk-container-id-1 div.sk-estimator:hover {background-color: #d4ebff;}#sk-container-id-1 div.sk-parallel-item::after {content: \"\";width: 100%;border-bottom: 1px solid gray;flex-grow: 1;}#sk-container-id-1 div.sk-label:hover label.sk-toggleable__label {background-color: #d4ebff;}#sk-container-id-1 div.sk-serial::before {content: \"\";position: absolute;border-left: 1px solid gray;box-sizing: border-box;top: 0;bottom: 0;left: 50%;z-index: 0;}#sk-container-id-1 div.sk-serial {display: flex;flex-direction: column;align-items: center;background-color: white;padding-right: 0.2em;padding-left: 0.2em;position: relative;}#sk-container-id-1 div.sk-item {position: relative;z-index: 1;}#sk-container-id-1 div.sk-parallel {display: flex;align-items: stretch;justify-content: center;background-color: white;position: relative;}#sk-container-id-1 div.sk-item::before, #sk-container-id-1 div.sk-parallel-item::before {content: \"\";position: absolute;border-left: 1px solid gray;box-sizing: border-box;top: 0;bottom: 0;left: 50%;z-index: -1;}#sk-container-id-1 div.sk-parallel-item {display: flex;flex-direction: column;z-index: 1;position: relative;background-color: white;}#sk-container-id-1 div.sk-parallel-item:first-child::after {align-self: flex-end;width: 50%;}#sk-container-id-1 div.sk-parallel-item:last-child::after {align-self: flex-start;width: 50%;}#sk-container-id-1 div.sk-parallel-item:only-child::after {width: 0;}#sk-container-id-1 div.sk-dashed-wrapped {border: 1px dashed gray;margin: 0 0.4em 0.5em 0.4em;box-sizing: border-box;padding-bottom: 0.4em;background-color: white;}#sk-container-id-1 div.sk-label label {font-family: monospace;font-weight: bold;display: inline-block;line-height: 1.2em;}#sk-container-id-1 div.sk-label-container {text-align: center;}#sk-container-id-1 div.sk-container {/* jupyter's `normalize.less` sets `[hidden] { display: none; }` but bootstrap.min.css set `[hidden] { display: none !important; }` so we also need the `!important` here to be able to override the default hidden behavior on the sphinx rendered scikit-learn.org. See: https://github.com/scikit-learn/scikit-learn/issues/21755 */display: inline-block !important;position: relative;}#sk-container-id-1 div.sk-text-repr-fallback {display: none;}</style><div id=\"sk-container-id-1\" class=\"sk-top-container\"><div class=\"sk-text-repr-fallback\"><pre>RandomForestClassifier(random_state=42)</pre><b>In a Jupyter environment, please rerun this cell to show the HTML representation or trust the notebook. <br />On GitHub, the HTML representation is unable to render, please try loading this page with nbviewer.org.</b></div><div class=\"sk-container\" hidden><div class=\"sk-item\"><div class=\"sk-estimator sk-toggleable\"><input class=\"sk-toggleable__control sk-hidden--visually\" id=\"sk-estimator-id-1\" type=\"checkbox\" checked><label for=\"sk-estimator-id-1\" class=\"sk-toggleable__label sk-toggleable__label-arrow\">RandomForestClassifier</label><div class=\"sk-toggleable__content\"><pre>RandomForestClassifier(random_state=42)</pre></div></div></div></div></div>"
      ],
      "text/plain": [
       "RandomForestClassifier(random_state=42)"
      ]
     },
     "execution_count": 9,
     "metadata": {},
     "output_type": "execute_result"
    }
   ],
   "source": [
    "from sklearn.ensemble import RandomForestClassifier\n",
    "\n",
    "model = RandomForestClassifier(n_estimators=100, random_state=42)\n",
    "model.fit(X_train, y_train)"
   ]
  },
  {
   "cell_type": "markdown",
   "id": "10913aa2",
   "metadata": {
    "papermill": {
     "duration": 0.00843,
     "end_time": "2024-09-08T16:50:50.500768",
     "exception": false,
     "start_time": "2024-09-08T16:50:50.492338",
     "status": "completed"
    },
    "tags": []
   },
   "source": [
    "## Validate the model"
   ]
  },
  {
   "cell_type": "code",
   "execution_count": 10,
   "id": "e175c529",
   "metadata": {
    "execution": {
     "iopub.execute_input": "2024-09-08T16:50:50.520483Z",
     "iopub.status.busy": "2024-09-08T16:50:50.520032Z",
     "iopub.status.idle": "2024-09-08T16:50:50.544324Z",
     "shell.execute_reply": "2024-09-08T16:50:50.543014Z"
    },
    "papermill": {
     "duration": 0.037499,
     "end_time": "2024-09-08T16:50:50.547087",
     "exception": false,
     "start_time": "2024-09-08T16:50:50.509588",
     "status": "completed"
    },
    "tags": []
   },
   "outputs": [
    {
     "name": "stdout",
     "output_type": "stream",
     "text": [
      "Validation Accuracy: 0.84\n"
     ]
    }
   ],
   "source": [
    "from sklearn.metrics import accuracy_score\n",
    "\n",
    "y_pred = model.predict(X_val)\n",
    "accuracy = accuracy_score(y_val, y_pred)\n",
    "print(f'Validation Accuracy: {accuracy:.2f}')"
   ]
  },
  {
   "cell_type": "markdown",
   "id": "07c3c6af",
   "metadata": {
    "papermill": {
     "duration": 0.008434,
     "end_time": "2024-09-08T16:50:50.564424",
     "exception": false,
     "start_time": "2024-09-08T16:50:50.555990",
     "status": "completed"
    },
    "tags": []
   },
   "source": [
    "# Submission"
   ]
  },
  {
   "cell_type": "code",
   "execution_count": 11,
   "id": "a586919b",
   "metadata": {
    "execution": {
     "iopub.execute_input": "2024-09-08T16:50:50.584089Z",
     "iopub.status.busy": "2024-09-08T16:50:50.583630Z",
     "iopub.status.idle": "2024-09-08T16:50:50.601571Z",
     "shell.execute_reply": "2024-09-08T16:50:50.600259Z"
    },
    "papermill": {
     "duration": 0.031348,
     "end_time": "2024-09-08T16:50:50.604546",
     "exception": false,
     "start_time": "2024-09-08T16:50:50.573198",
     "status": "completed"
    },
    "tags": []
   },
   "outputs": [],
   "source": [
    "test_data['Age'] = test_data['Age'].fillna(test_data['Age'].median())\n",
    "test_data['Embarked'] = test_data['Embarked'].fillna(test_data['Embarked'].mode()[0])\n",
    "test_data = pd.get_dummies(test_data, columns=['Sex', 'Embarked'])\n",
    "test_data.drop(['Name', 'Ticket', 'Cabin'], axis=1, inplace=True)\n",
    "test_data['Fare'] = test_data['Fare'].fillna(test_data['Fare'].median())"
   ]
  },
  {
   "cell_type": "code",
   "execution_count": 12,
   "id": "ebd79fcc",
   "metadata": {
    "execution": {
     "iopub.execute_input": "2024-09-08T16:50:50.625383Z",
     "iopub.status.busy": "2024-09-08T16:50:50.624343Z",
     "iopub.status.idle": "2024-09-08T16:50:50.633995Z",
     "shell.execute_reply": "2024-09-08T16:50:50.632363Z"
    },
    "papermill": {
     "duration": 0.023557,
     "end_time": "2024-09-08T16:50:50.637295",
     "exception": false,
     "start_time": "2024-09-08T16:50:50.613738",
     "status": "completed"
    },
    "tags": []
   },
   "outputs": [
    {
     "name": "stdout",
     "output_type": "stream",
     "text": [
      "Index(['PassengerId', 'Pclass', 'Age', 'SibSp', 'Parch', 'Fare', 'Sex_female',\n",
      "       'Sex_male', 'Embarked_C', 'Embarked_Q', 'Embarked_S'],\n",
      "      dtype='object')\n",
      "PassengerId    0\n",
      "Pclass         0\n",
      "Age            0\n",
      "SibSp          0\n",
      "Parch          0\n",
      "Fare           0\n",
      "Sex_female     0\n",
      "Sex_male       0\n",
      "Embarked_C     0\n",
      "Embarked_Q     0\n",
      "Embarked_S     0\n",
      "dtype: int64\n"
     ]
    }
   ],
   "source": [
    "print(test_data.columns)\n",
    "print(test_data.isnull().sum())\n"
   ]
  },
  {
   "cell_type": "code",
   "execution_count": 13,
   "id": "5d803b3a",
   "metadata": {
    "execution": {
     "iopub.execute_input": "2024-09-08T16:50:50.658944Z",
     "iopub.status.busy": "2024-09-08T16:50:50.658474Z",
     "iopub.status.idle": "2024-09-08T16:50:50.688002Z",
     "shell.execute_reply": "2024-09-08T16:50:50.686742Z"
    },
    "papermill": {
     "duration": 0.044614,
     "end_time": "2024-09-08T16:50:50.691219",
     "exception": false,
     "start_time": "2024-09-08T16:50:50.646605",
     "status": "completed"
    },
    "tags": []
   },
   "outputs": [],
   "source": [
    "predictions = model.predict(test_data)\n",
    "\n",
    "submission = pd.DataFrame({\n",
    "    'PassengerId': test_data['PassengerId'],\n",
    "    'Survived': predictions\n",
    "})\n",
    "submission.to_csv('submission.csv', index=False)"
   ]
  }
 ],
 "metadata": {
  "kaggle": {
   "accelerator": "none",
   "dataSources": [
    {
     "databundleVersionId": 26502,
     "sourceId": 3136,
     "sourceType": "competition"
    }
   ],
   "dockerImageVersionId": 30761,
   "isGpuEnabled": false,
   "isInternetEnabled": false,
   "language": "python",
   "sourceType": "notebook"
  },
  "kernelspec": {
   "display_name": "Python 3",
   "language": "python",
   "name": "python3"
  },
  "language_info": {
   "codemirror_mode": {
    "name": "ipython",
    "version": 3
   },
   "file_extension": ".py",
   "mimetype": "text/x-python",
   "name": "python",
   "nbconvert_exporter": "python",
   "pygments_lexer": "ipython3",
   "version": "3.10.14"
  },
  "papermill": {
   "default_parameters": {},
   "duration": 8.029731,
   "end_time": "2024-09-08T16:50:51.426354",
   "environment_variables": {},
   "exception": null,
   "input_path": "__notebook__.ipynb",
   "output_path": "__notebook__.ipynb",
   "parameters": {},
   "start_time": "2024-09-08T16:50:43.396623",
   "version": "2.6.0"
  }
 },
 "nbformat": 4,
 "nbformat_minor": 5
}
